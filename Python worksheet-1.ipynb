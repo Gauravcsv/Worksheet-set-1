{
 "cells": [
  {
   "cell_type": "markdown",
   "id": "2454b658",
   "metadata": {},
   "source": [
    "# Question no-11"
   ]
  },
  {
   "cell_type": "code",
   "execution_count": 3,
   "id": "ee51f337",
   "metadata": {},
   "outputs": [
    {
     "name": "stdout",
     "output_type": "stream",
     "text": [
      "input a number to compute the factorial :5\n",
      "120\n"
     ]
    }
   ],
   "source": [
    "def factorial(n):\n",
    "    if n == 0:\n",
    "        return 1\n",
    "    else:\n",
    "        return n * factorial(n-1)\n",
    "    \n",
    "n=int(input(\"input a number to compute the factorial :\"))\n",
    "print(factorial(n))"
   ]
  },
  {
   "cell_type": "markdown",
   "id": "f84cbb6d",
   "metadata": {},
   "source": [
    "# Question no -12"
   ]
  },
  {
   "cell_type": "code",
   "execution_count": 4,
   "id": "199cc12b",
   "metadata": {},
   "outputs": [
    {
     "name": "stdout",
     "output_type": "stream",
     "text": [
      "Enter any number : 5\n",
      "5 is a PRIME number\n",
      "5 is a PRIME number\n",
      "5 is a PRIME number\n"
     ]
    }
   ],
   "source": [
    "num = int(input(\"Enter any number : \"))\n",
    "if num > 1:\n",
    "    for i in range(2, num):\n",
    "        if (num % i) == 0:\n",
    "            print(num, \"is NOT a prime number\")\n",
    "            break\n",
    "        else:\n",
    "            print(num, \"is a PRIME number\")\n",
    "elif num == 0 or 1:\n",
    "    print(num, \"is a neither prime NOR composite number\")\n",
    "else:\n",
    "    print(num, \"is NOT a prime number it is a COMPSITE number\")\n"
   ]
  },
  {
   "cell_type": "markdown",
   "id": "79a09e0d",
   "metadata": {},
   "source": [
    "# Question no- 13"
   ]
  },
  {
   "cell_type": "code",
   "execution_count": 7,
   "id": "e6e297c7",
   "metadata": {},
   "outputs": [
    {
     "name": "stdout",
     "output_type": "stream",
     "text": [
      "Please enter your own String :hello\n",
      "this is NOT a Polindrome String\n"
     ]
    }
   ],
   "source": [
    "string = input(\"Please enter your own String :\")\n",
    "\n",
    "if(string == string[:: -1]):\n",
    "    print(\"this is a Plindrome String\")\n",
    "else:\n",
    "    print(\"this is NOT a Polindrome String\")"
   ]
  },
  {
   "cell_type": "markdown",
   "id": "684b8cb1",
   "metadata": {},
   "source": [
    "# Question no-14"
   ]
  },
  {
   "cell_type": "code",
   "execution_count": 8,
   "id": "8cae2fb1",
   "metadata": {},
   "outputs": [
    {
     "name": "stdout",
     "output_type": "stream",
     "text": [
      "Hypotenuse = 5.0\n",
      "Adjacent = 4.0\n",
      "Opposite = 3.0\n",
      "You know the answer!\n"
     ]
    }
   ],
   "source": [
    "def pythagoras(opposite_side,adjacent_side,hypotenuse):\n",
    "    if opposite_side == str(\"x\"):\n",
    "        return (\"Opposite = \" + str(((hypotenuse**2) - (adjacent_side**2))**0.5))\n",
    "    elif adjacent_side == str(\"x\"):\n",
    "        return (\"Adjacent = \" + str(((hypotenuse**2) - (opposite_side**2))**0.5))\n",
    "    elif hypotenuse == str(\"x\"):\n",
    "        return (\"Hypotenuse = \" + str(((opposite_side**2) + (adjacent_side**2))**0.5))\n",
    "    else:\n",
    "        return \"You know the answer!\"\n",
    "print(pythagoras(3,4,'x'))\n",
    "print(pythagoras(3,'x',5))\n",
    "print(pythagoras('x',4,5))\n",
    "print(pythagoras(3,4,5,))\n"
   ]
  },
  {
   "cell_type": "markdown",
   "id": "d3456433",
   "metadata": {},
   "source": [
    "# Question no-15"
   ]
  },
  {
   "cell_type": "code",
   "execution_count": 11,
   "id": "50be744b",
   "metadata": {},
   "outputs": [
    {
     "name": "stdout",
     "output_type": "stream",
     "text": [
      "Enter thr string1\n",
      "Character and their frequency\n",
      "1=1\n"
     ]
    }
   ],
   "source": [
    "string=input(\"Enter thr string\")\n",
    "freq=[None]*len(string)\n",
    "\n",
    "for i in range(0,len(string)):\n",
    "    freq[i]=1\n",
    "    for j in range(i+1,len(string)):\n",
    "        if(string[i]==string[j]):\n",
    "            freq[i]=freq[i]+1\n",
    "\n",
    "            string=string[:j]+'0'+string[j+1:];\n",
    "\n",
    "print(\"Character and their frequency\");\n",
    "for i in range(0,len(freq)):\n",
    "    if(string[i]!='' and string[i]!='0'):\n",
    "        print(string[i]+\"=\"+str(freq[i]))        \n",
    "            \n",
    "            "
   ]
  },
  {
   "cell_type": "code",
   "execution_count": null,
   "id": "e4ee933a",
   "metadata": {},
   "outputs": [],
   "source": []
  }
 ],
 "metadata": {
  "kernelspec": {
   "display_name": "Python 3 (ipykernel)",
   "language": "python",
   "name": "python3"
  },
  "language_info": {
   "codemirror_mode": {
    "name": "ipython",
    "version": 3
   },
   "file_extension": ".py",
   "mimetype": "text/x-python",
   "name": "python",
   "nbconvert_exporter": "python",
   "pygments_lexer": "ipython3",
   "version": "3.9.12"
  }
 },
 "nbformat": 4,
 "nbformat_minor": 5
}
